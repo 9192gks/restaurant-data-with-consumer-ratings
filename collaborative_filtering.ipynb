{
 "cells": [
  {
   "cell_type": "markdown",
   "metadata": {
    "_cell_guid": "de1d9e9f-96b6-497b-805a-c335f9b882b8",
    "_uuid": "291b5ef28fe537e33171f1e5bf7b1b2f23600952"
   },
   "source": [
    "# Collaborative Filtering\n",
    "\n",
    "**By Li-Yen Hsu (11/10/2017)**\n",
    "<br><br>\n",
    "The goal of this project is to predict the ratings that would be given by each consumer for the restaurants he/she has not rated. A list of restaurants with the highest predicted ratings can then be recommended to each consumer. Because the restaurant ratings are numerical, predicting their values can be treated as a regression problem. Using classification techniques is also reasonable since the ratings are 0, 1 or 2 in this dataset. However, a multi-class classification will likely predict too many ties and therefore prevent us from generating a top-n list of recommendations for a consumer. Rather than predicting the exact values of ratings that a consumer would give to certain restaurants, what is more important for a recommender system is predicting the ranking of these restaurants for the consumer. Thus, I will attempt to predict continuous values in this notebook.\n",
    "<br><br>\n",
    "I will use matrix factorization-based algorithms for rating prediction. The fundamental concepts are that each item is characterized by a vector of features; each consumer preference is described by a vector of weights which has the same dimension as the item features; and the predicted rating of a item-consumer pair equals the inner product of the two vectors. The mathematics is therefore equivalent to a simple linear regression. For a content-based approach, the features are already determined based on the product information, leaving the weights to be optimized. For collaborative filtering, both the features and weights are the parameters to be optimized. I will use the latter in this notebook. Instead of using an existing library for recommender systems, I will implement the cost functions of the problem and perform optimization using \"minimize()\" from the SciPy package. But I will also run a [SVD model](http://sifter.org/simon/journal/20061211.html) using [Surprise](http://surpriselib.com/) at the end and compare its performance with mine."
   ]
  },
  {
   "cell_type": "code",
   "execution_count": 1,
   "metadata": {
    "_cell_guid": "f368523d-9435-45de-a458-04ed5202342b",
    "_uuid": "3588092b447848f3682e38030fbf5944591554e0"
   },
   "outputs": [],
   "source": [
    "import numpy as np \n",
    "import pandas as pd\n",
    "import matplotlib.pyplot as plt\n",
    "import random\n",
    "from sklearn.metrics import mean_squared_error\n",
    "from scipy.optimize import minimize\n",
    "\n",
    "# Since I will use collaborative filtering approaches, only the csv file \n",
    "# for the ratings is needed\n",
    "rating = pd.read_csv('data/rating_final.csv')"
   ]
  },
  {
   "cell_type": "markdown",
   "metadata": {
    "_cell_guid": "ba0bb5c5-15bc-4b56-bb9c-18d546b84ce1",
    "_uuid": "7828d58da4e7588a685c2bbdf49e6c7546a6b0b7"
   },
   "source": [
    "## Data Preprocessing\n",
    "Let's first look at the data frame."
   ]
  },
  {
   "cell_type": "code",
   "execution_count": 2,
   "metadata": {
    "_cell_guid": "7b93bcd3-ff59-42f9-a18a-f51763b706f6",
    "_uuid": "42ab37c990bbae9792cb61274ff9b804d0321673"
   },
   "outputs": [
    {
     "data": {
      "text/html": [
       "<div>\n",
       "<style>\n",
       "    .dataframe thead tr:only-child th {\n",
       "        text-align: right;\n",
       "    }\n",
       "\n",
       "    .dataframe thead th {\n",
       "        text-align: left;\n",
       "    }\n",
       "\n",
       "    .dataframe tbody tr th {\n",
       "        vertical-align: top;\n",
       "    }\n",
       "</style>\n",
       "<table border=\"1\" class=\"dataframe\">\n",
       "  <thead>\n",
       "    <tr style=\"text-align: right;\">\n",
       "      <th></th>\n",
       "      <th>userID</th>\n",
       "      <th>placeID</th>\n",
       "      <th>rating</th>\n",
       "      <th>food_rating</th>\n",
       "      <th>service_rating</th>\n",
       "    </tr>\n",
       "  </thead>\n",
       "  <tbody>\n",
       "    <tr>\n",
       "      <th>0</th>\n",
       "      <td>U1077</td>\n",
       "      <td>135085</td>\n",
       "      <td>2</td>\n",
       "      <td>2</td>\n",
       "      <td>2</td>\n",
       "    </tr>\n",
       "    <tr>\n",
       "      <th>1</th>\n",
       "      <td>U1077</td>\n",
       "      <td>135038</td>\n",
       "      <td>2</td>\n",
       "      <td>2</td>\n",
       "      <td>1</td>\n",
       "    </tr>\n",
       "    <tr>\n",
       "      <th>2</th>\n",
       "      <td>U1077</td>\n",
       "      <td>132825</td>\n",
       "      <td>2</td>\n",
       "      <td>2</td>\n",
       "      <td>2</td>\n",
       "    </tr>\n",
       "    <tr>\n",
       "      <th>3</th>\n",
       "      <td>U1077</td>\n",
       "      <td>135060</td>\n",
       "      <td>1</td>\n",
       "      <td>2</td>\n",
       "      <td>2</td>\n",
       "    </tr>\n",
       "    <tr>\n",
       "      <th>4</th>\n",
       "      <td>U1068</td>\n",
       "      <td>135104</td>\n",
       "      <td>1</td>\n",
       "      <td>1</td>\n",
       "      <td>2</td>\n",
       "    </tr>\n",
       "  </tbody>\n",
       "</table>\n",
       "</div>"
      ],
      "text/plain": [
       "  userID  placeID  rating  food_rating  service_rating\n",
       "0  U1077   135085       2            2               2\n",
       "1  U1077   135038       2            2               1\n",
       "2  U1077   132825       2            2               2\n",
       "3  U1077   135060       1            2               2\n",
       "4  U1068   135104       1            1               2"
      ]
     },
     "execution_count": 2,
     "metadata": {},
     "output_type": "execute_result"
    }
   ],
   "source": [
    "rating.head()"
   ]
  },
  {
   "cell_type": "code",
   "execution_count": 3,
   "metadata": {
    "_cell_guid": "6f38b578-4c25-435c-a5d9-082bef3cf916",
    "_uuid": "0aa7f5737b64c42de5a11f95f39388f92f1398cb"
   },
   "outputs": [
    {
     "name": "stdout",
     "output_type": "stream",
     "text": [
      "There are 138 unique userID's.\n",
      "There are 130 unique placeID's.\n",
      "There are 1161 * 3 ratings.\n"
     ]
    }
   ],
   "source": [
    "n_user = len(rating.userID.unique())\n",
    "n_res = len(rating.placeID.unique())\n",
    "n_rating = len(rating)\n",
    "\n",
    "print(\"There are {} unique userID's.\".format(n_user))\n",
    "print(\"There are {} unique placeID's.\".format(n_res))\n",
    "print(\"There are {} * 3 ratings.\".format(n_rating))"
   ]
  },
  {
   "cell_type": "code",
   "execution_count": 4,
   "metadata": {
    "_cell_guid": "353d57a1-80ef-4a5e-b857-4cc9ea376e8d",
    "_uuid": "b78d75dfe83b5ad3845099819d44ee4c6d3c20ed"
   },
   "outputs": [
    {
     "data": {
      "text/html": [
       "<div>\n",
       "<style>\n",
       "    .dataframe thead tr:only-child th {\n",
       "        text-align: right;\n",
       "    }\n",
       "\n",
       "    .dataframe thead th {\n",
       "        text-align: left;\n",
       "    }\n",
       "\n",
       "    .dataframe tbody tr th {\n",
       "        vertical-align: top;\n",
       "    }\n",
       "</style>\n",
       "<table border=\"1\" class=\"dataframe\">\n",
       "  <thead>\n",
       "    <tr style=\"text-align: right;\">\n",
       "      <th></th>\n",
       "      <th>rating</th>\n",
       "      <th>food_rating</th>\n",
       "      <th>service_rating</th>\n",
       "    </tr>\n",
       "  </thead>\n",
       "  <tbody>\n",
       "    <tr>\n",
       "      <th>count</th>\n",
       "      <td>1161.000000</td>\n",
       "      <td>1161.000000</td>\n",
       "      <td>1161.000000</td>\n",
       "    </tr>\n",
       "    <tr>\n",
       "      <th>mean</th>\n",
       "      <td>1.199828</td>\n",
       "      <td>1.215332</td>\n",
       "      <td>1.090439</td>\n",
       "    </tr>\n",
       "    <tr>\n",
       "      <th>std</th>\n",
       "      <td>0.773282</td>\n",
       "      <td>0.792294</td>\n",
       "      <td>0.790844</td>\n",
       "    </tr>\n",
       "    <tr>\n",
       "      <th>min</th>\n",
       "      <td>0.000000</td>\n",
       "      <td>0.000000</td>\n",
       "      <td>0.000000</td>\n",
       "    </tr>\n",
       "    <tr>\n",
       "      <th>25%</th>\n",
       "      <td>1.000000</td>\n",
       "      <td>1.000000</td>\n",
       "      <td>0.000000</td>\n",
       "    </tr>\n",
       "    <tr>\n",
       "      <th>50%</th>\n",
       "      <td>1.000000</td>\n",
       "      <td>1.000000</td>\n",
       "      <td>1.000000</td>\n",
       "    </tr>\n",
       "    <tr>\n",
       "      <th>75%</th>\n",
       "      <td>2.000000</td>\n",
       "      <td>2.000000</td>\n",
       "      <td>2.000000</td>\n",
       "    </tr>\n",
       "    <tr>\n",
       "      <th>max</th>\n",
       "      <td>2.000000</td>\n",
       "      <td>2.000000</td>\n",
       "      <td>2.000000</td>\n",
       "    </tr>\n",
       "  </tbody>\n",
       "</table>\n",
       "</div>"
      ],
      "text/plain": [
       "            rating  food_rating  service_rating\n",
       "count  1161.000000  1161.000000     1161.000000\n",
       "mean      1.199828     1.215332        1.090439\n",
       "std       0.773282     0.792294        0.790844\n",
       "min       0.000000     0.000000        0.000000\n",
       "25%       1.000000     1.000000        0.000000\n",
       "50%       1.000000     1.000000        1.000000\n",
       "75%       2.000000     2.000000        2.000000\n",
       "max       2.000000     2.000000        2.000000"
      ]
     },
     "execution_count": 4,
     "metadata": {},
     "output_type": "execute_result"
    }
   ],
   "source": [
    "rating.iloc[:,2:].describe()"
   ]
  },
  {
   "cell_type": "markdown",
   "metadata": {
    "_cell_guid": "d3bc27bf-3eab-4ab5-ab9c-8dd42fc804ee",
    "_uuid": "cc73a39be25b54483fe44c0cd8f8bee7c70cfb73",
    "collapsed": true
   },
   "source": [
    "I will now create three matrices (**Y_overall**, **Y_food**, and **Y_service**) for the three types of rating, each of which will have a shape of (130, 138). A restaurant-user pair without a rating will be recorded as -1 (to be different from 0, the lowest rating)."
   ]
  },
  {
   "cell_type": "code",
   "execution_count": 5,
   "metadata": {
    "_cell_guid": "04237c0c-47a7-4d47-b965-736d748a026b",
    "_uuid": "725e60c128515d6d3b313900b39518a36b2e92db",
    "collapsed": true
   },
   "outputs": [],
   "source": [
    "placeID = np.sort(rating.placeID.unique()) # All the placeID's\n",
    "userID = np.sort(rating.userID.unique())   # All the userID's\n",
    "\n",
    "Y_overall = pd.DataFrame(np.zeros((n_res,n_user))-1, columns=userID, index=placeID)\n",
    "Y_food = Y_overall.copy()\n",
    "Y_service = Y_overall.copy() \n",
    "\n",
    "for p, u, o, f, s in zip(rating.placeID, rating.userID, rating.rating, rating.food_rating, \n",
    "                         rating.service_rating):\n",
    "    Y_overall.loc[p,u] = o\n",
    "    Y_food.loc[p,u] = f\n",
    "    Y_service.loc[p,u] = s\n",
    "\n",
    "Y_overall = Y_overall.values\n",
    "Y_food = Y_food.values\n",
    "Y_service = Y_service.values"
   ]
  },
  {
   "cell_type": "markdown",
   "metadata": {},
   "source": [
    "Now I create another matrix **R** with the same shape, which tells us whether a restaurant-user pair has a rating. 0 means No and 1 means Yes."
   ]
  },
  {
   "cell_type": "code",
   "execution_count": 6,
   "metadata": {
    "_cell_guid": "f9398dd1-d673-4845-b94f-1c59805066ea",
    "_uuid": "4d70cc2a98852c666489d8e033c1e5097a5fbd1a",
    "collapsed": true
   },
   "outputs": [],
   "source": [
    "R = np.zeros(Y_overall.shape)\n",
    "R[Y_overall >= 0] = 1"
   ]
  },
  {
   "cell_type": "markdown",
   "metadata": {
    "_cell_guid": "5279a84f-15da-4986-bb80-8fd4e7b78024",
    "_uuid": "09fd95060b9d2ebcb0ee353b54bec6d4029ed4af"
   },
   "source": [
    "## Training/Test Split\n",
    "\n",
    "Before we implement the models, let's split the existing ratings into training/test sets using a 70/30 split. Similar to the matrix **R**, I will create another two matrices, **R_train** and **R_test**, for the training and test sets, respectively. Note that I will split the ratings, not the restaurants or users. Specifically, 30% of the ratings from each user will be separated for testing. In addition, I will ensure that every restaurant and every consumer receives/gives some ratings in the training set. This constraint makes sure that the characteristic of every restaurant and consumer is learned. \n",
    "<br><br>\n",
    "Ideally, it's better to split the data into training/validation/test sets, where the validation set is used to tune the model, and the test set is used to check whether the chosen model also performs well on unseen data. However, the number of existing ratings in this dataset is really small. If we used, say, a 60/20/20 split, most of the users in either the validation or test set would have less than three true ratings, which is not very useful for evaluating the predicted restaurant ranking."
   ]
  },
  {
   "cell_type": "code",
   "execution_count": 7,
   "metadata": {
    "_cell_guid": "2318903a-d2f5-4fa8-99e1-6cd448dff888",
    "_uuid": "6d5dc50580c48610b191f86ff5d748f90e8dac48"
   },
   "outputs": [
    {
     "name": "stdout",
     "output_type": "stream",
     "text": [
      "(810.0, 351.0)\n"
     ]
    }
   ],
   "source": [
    "# 30% of the existing ratings will be used as the test set, so during \n",
    "# the training, they will be flagged. \n",
    "#\n",
    "# The minimum number of ratings from a user = 3. In such a case, it \n",
    "# will be a 2/1 split.\n",
    "\n",
    "random.seed(99)\n",
    "cond = True\n",
    "\n",
    "while cond:\n",
    "\n",
    "    R_train = R.copy()\n",
    "\n",
    "    # loop over each user\n",
    "    for i in range(R_train.shape[1]):\n",
    "        # the restaurants that are rated\n",
    "        index = list( np.where(R_train[:,i] == 1)[0] )  \n",
    "        # randomly select about 30% of them to be flagged\n",
    "        flag = int(round(len(index)*0.3))\n",
    "        index_flag = random.sample(index,flag)\n",
    "        R_train[index_flag,i] = 0  \n",
    "    \n",
    "    # make sure in the traning set, each restaurant also has at least \n",
    "    # 2 ratings\n",
    "    if np.sum(R_train,axis=1).min() > 1: \n",
    "        cond = False\n",
    "\n",
    "# the rest will be the test set        \n",
    "R_test = R - R_train\n",
    "\n",
    "# Now \"R_train\" contains 810 ones and \"R_test\" contains 351 ones (\"R\" contains 1161 ones)\n",
    "print(R_train.sum(), R_test.sum())"
   ]
  },
  {
   "cell_type": "markdown",
   "metadata": {
    "_cell_guid": "82e3fed9-e56f-44aa-bbbe-3dc41154a84a",
    "_uuid": "a903ddff904fbcb554094b0bf2254642b07df606"
   },
   "source": [
    "## Evaluation Metrics ##\n",
    "I will use two evaluation metrics to quantify the model performances. The first one is root-mean-square error (RMSE), which is very standard for regression problems because it tells you how close your predictions are to the labels. However, for recommender systems, the most important thing is the ranking of the items, and RMSE sometimes doesn't work well for this purpose. For example, a perfectly ranked prediction can have a terrible RMSE by predicting the ratings on the wrong scale.\n",
    "<br>\n",
    "<br>\n",
    "Thus, the second metric I will use is **Fraction of Concordant Pairs (FCP)** Please refer to Section 5.2 of http://www.ijcai.org/Proceedings/13/Papers/449.pdf. The concept is the following. Suppose a user has rated n products, then there are n*(n-1)/2 unique pairs of ratings. If product A receives a higher rating than product B from a user and the model predicts the same, A and B are a concordant pair, otherwise a discordant pair. FCP is simply the fraction of concordant pairs among all the pairs (sum over all users). Note that because the ratings are discrete integers, many rating pairs would actually be ties. In such cases, they would not be included in the calculation of FCP."
   ]
  },
  {
   "cell_type": "code",
   "execution_count": 8,
   "metadata": {
    "_cell_guid": "48202bad-5f64-493a-a360-97af80310f5a",
    "_uuid": "73040c76236c1625a8185c8b3f479c2b38f1db22",
    "collapsed": true
   },
   "outputs": [],
   "source": [
    "def RMSE(Y,Y_pred,R):\n",
    "    \n",
    "    return np.sqrt(mean_squared_error(Y[R  == 1], Y_pred[R == 1]))\n",
    "\n",
    "\n",
    "def FCP(Y,Y_pred,R):\n",
    "    \n",
    "    # list of true ratings from each user (we only select users with at least two ratings)\n",
    "    Y_fcp = []  \n",
    "    Y_pred_fcp = [] # list of predicted ratings from each user \n",
    "    n_user = R.shape[1]\n",
    "    \n",
    "    for i in range(n_user):\n",
    "        \n",
    "        cond = (R.sum(axis=0) >= 2)[i] # there should be at least two ratings from a user\n",
    "        index = np.where( R[:,i] == 1)[0] # the indices (restaurants) with ratings\n",
    "    \n",
    "        if cond:\n",
    "            \n",
    "            Y_fcp.append( (Y*R)[:,i][index] )\n",
    "            Y_pred_fcp.append( (Y_pred*R)[:,i][index] )\n",
    "\n",
    "        \n",
    "    n_fcp = len(Y_fcp) # number of users with at least two ratings\n",
    "    TP = 0. # Total number of pairs\n",
    "    DP = 0. # number of discordant pairs\n",
    "    CP = 0. # number of concordant pairs (excluding ties)\n",
    "    \n",
    "    for i in range(n_fcp):\n",
    "        \n",
    "        num_Y = len(Y_fcp[i])   # number of ratings from a user\n",
    "        TP += num_Y*(num_Y-1)/2 # number of rating pairs = n*(n+1)/2 \n",
    "\n",
    "        greater = np.array([])\n",
    "        greater_pred = np.array([])\n",
    "\n",
    "        # this loop is to go over all the rating pairs\n",
    "        for j in range(num_Y-1):\n",
    "            \n",
    "            not_equal = Y_fcp[i][j] != Y_fcp[i][j+1:]\n",
    "            greater = Y_fcp[i][j] > Y_fcp[i][j+1:]\n",
    "            greater_pred = Y_pred_fcp[i][j] > Y_pred_fcp[i][j+1:]\n",
    "\n",
    "            # filter the ones that are not ties\n",
    "            greater = greater[not_equal]\n",
    "            greater_pred = greater_pred[not_equal]\n",
    "\n",
    "            DP += (greater != greater_pred).sum()\n",
    "            CP += (greater == greater_pred).sum()\n",
    "            \n",
    "    print(\"Total number of rating pairs: {}\".format(int(TP)))\n",
    "    print(\"Total number of discordant pairs: {}\".format(int(DP)))\n",
    "    print(\"Total number of concordant pairs: {}\".format(int(CP)))\n",
    "    print(\"Total number of ties: {}\".format(int(TP-DP-CP)))\n",
    "    print(\"FCP: {}\".format(CP/(CP+DP)))"
   ]
  },
  {
   "cell_type": "markdown",
   "metadata": {
    "_cell_guid": "afc8056f-53e2-4345-9a4a-b65018829230",
    "_uuid": "beeb6a3ea40643899875173c9c5a30ee04938b77"
   },
   "source": [
    "## Benchmark Model ##\n",
    "Now we can try building our models. I will only predict the overall ratings in this notebook, as the procedures for the other two ratings are exactly the same anyway. First, I will implement a benchmark model which simply predicts the average of the ratings that a restaurant already received. We can later compare other models with this benchmark to see if they are doing better than just using average ratings."
   ]
  },
  {
   "cell_type": "code",
   "execution_count": 9,
   "metadata": {
    "_cell_guid": "8c64ae74-6502-4c4f-a6da-9d566bb4c762",
    "_uuid": "16ca4dea69ff9fc7200bc9f519908370073f2f88",
    "collapsed": true
   },
   "outputs": [],
   "source": [
    "def GetMean(Y,R):\n",
    "\n",
    "    Y = Y*R\n",
    "    mean =  (np.sum(Y, axis=1)/np.sum((R == 1.0), axis=1)).reshape(Y.shape[0],1) * np.ones(Y.shape)\n",
    "    return mean"
   ]
  },
  {
   "cell_type": "code",
   "execution_count": 10,
   "metadata": {
    "_cell_guid": "0357b0b1-5f62-4802-a9ea-ce9a4fc810dd",
    "_uuid": "17f3a2752c897a62ea5841f085104d4644de177e"
   },
   "outputs": [
    {
     "name": "stdout",
     "output_type": "stream",
     "text": [
      "RMSE of the training set: 0.694777439953\n",
      "RMSE of the test set: 0.82419115992\n"
     ]
    }
   ],
   "source": [
    "Y = Y_overall \n",
    "Y_mean = GetMean(Y,R_train) # get the average ratings based on the training set\n",
    "Y_pred = np.zeros(Y.shape) + Y_mean # prediction \n",
    "\n",
    "# RMSE\n",
    "print(\"RMSE of the training set: {}\".format(RMSE(Y,Y_pred,R_train)))\n",
    "print(\"RMSE of the test set: {}\".format(RMSE(Y,Y_pred,R_test)))"
   ]
  },
  {
   "cell_type": "code",
   "execution_count": 11,
   "metadata": {
    "_cell_guid": "cf810f01-b5e0-4c6c-9e52-83cd537331cd",
    "_uuid": "380c7a77ae70736fbb0b0049f83561e03c367a91"
   },
   "outputs": [
    {
     "name": "stdout",
     "output_type": "stream",
     "text": [
      "Training Set:\n",
      "Total number of rating pairs: 2380\n",
      "Total number of discordant pairs: 327\n",
      "Total number of concordant pairs: 728\n",
      "Total number of ties: 1325\n",
      "FCP: 0.690047393365\n",
      "\n",
      "\n",
      "Test Set:\n",
      "Total number of rating pairs: 339\n",
      "Total number of discordant pairs: 57\n",
      "Total number of concordant pairs: 76\n",
      "Total number of ties: 206\n",
      "FCP: 0.571428571429\n"
     ]
    }
   ],
   "source": [
    "# FCP\n",
    "print(\"Training Set:\")\n",
    "FCP(Y,Y_pred,R_train)\n",
    "print(\"\\n\")\n",
    "print(\"Test Set:\")\n",
    "FCP(Y,Y_pred,R_test)"
   ]
  },
  {
   "cell_type": "code",
   "execution_count": 12,
   "metadata": {
    "_cell_guid": "1849df13-fa7c-4f31-b01f-f0b4d7e0b265",
    "_uuid": "8147c921a5d5f90d427fb989e032ae9b46b39e7e",
    "collapsed": true
   },
   "outputs": [],
   "source": [
    "# A plotter to make boxplot\n",
    "def MakeBoxplot(Y_pred, Y_true, R, title):\n",
    "    \n",
    "    data1 = Y_pred[R == 1][Y_true[R == 1] == 0]\n",
    "    data2 = Y_pred[R == 1][Y_true[R == 1] == 1]\n",
    "    data3 = Y_pred[R == 1][Y_true[R == 1] == 2]\n",
    "    data = [data1,data2,data3]\n",
    "\n",
    "    fig = plt.figure()\n",
    "    plt.boxplot(data)\n",
    "    plt.xticks([1, 2, 3],[0,1,2])\n",
    "    plt.xlabel('True Rating')\n",
    "    plt.ylabel('Predicted Rating')\n",
    "    plt.title(title)\n",
    "    plt.show()"
   ]
  },
  {
   "cell_type": "code",
   "execution_count": 13,
   "metadata": {
    "_cell_guid": "3e2ce7ab-c206-48e2-8540-8956bf18f2f9",
    "_uuid": "1c4a605f3a1d9c21735623b4be5d57c42afb6ed2"
   },
   "outputs": [
    {
     "data": {
      "image/png": "[encoded data removed]",
      "text/plain": [
       "<matplotlib.figure.Figure at 0x10cd788d0>"
      ]
     },
     "metadata": {},
     "output_type": "display_data"
    }
   ],
   "source": [
    "MakeBoxplot(Y_pred, Y, R_train, 'Training Set')"
   ]
  },
  {
   "cell_type": "code",
   "execution_count": 14,
   "metadata": {
    "_cell_guid": "8a14ae8a-6991-4145-bb59-e08292bb5cf9",
    "_uuid": "8d6f95dd79078871ab7beea5cdd437ce855382c2"
   },
   "outputs": [
    {
     "data": {
      "image/png": "[encoded data removed]",
      "text/plain": [
       "<matplotlib.figure.Figure at 0x1103c9310>"
      ]
     },
     "metadata": {},
     "output_type": "display_data"
    }
   ],
   "source": [
    "MakeBoxplot(Y_pred, Y, R_test, 'Test Set')"
   ]
  },
  {
   "cell_type": "markdown",
   "metadata": {
    "_cell_guid": "cc78beac-45f8-41b1-9c8a-a362bab475ea",
    "_uuid": "54e1fb479edd9303ba44991a602a0b9252c45bca"
   },
   "source": [
    "## Matrix Factorization ##\n",
    "The cost function for a matrix factorization-based algorithm can be easily computed using a vectorized implementation. For the mathematical detail, you can refer to [Andrew Ng's ML course](http://www.holehouse.org/mlclass/16_Recommender_Systems.html). If the weights of a consumer is a vector $\\theta$, and the features of a restaurant is a vector $x$, the predicted rating for this consumer-restaurant pair equals $\\theta^{T} x$. If a bias term $b$ is used, the predicted rating is $\\theta^{T} x+b$. Another way to use the bias term is to include it in $\\theta$, such that $\\theta_0 = b$, and add a 1 into $x$, such that $x_0 = 1$. Using this notation, the predicted rating is again $\\theta^{T} x$, which is what I use here. In the following, I will use a matrix, **X**,  to express the stack of all the $x$ vectors of the restaurants, a matrix, **Theta**, to express the stack of all the $\\theta$ vectors of the consumers, and a constant, **lambd**, for the L2 regularization."
   ]
  },
  {
   "cell_type": "code",
   "execution_count": 15,
   "metadata": {
    "_cell_guid": "60270f05-690a-4176-9cb7-cf4ab4e21a7d",
    "_uuid": "b085782ff3079d90b30646a4d09876d4d688cff7",
    "collapsed": true
   },
   "outputs": [],
   "source": [
    "\"\"\"\n",
    "The parameters of the cost function are the features of the restaurants, with a \n",
    "shape = (n_res, n_feature), as wel as the weights of the users, with a shape = \n",
    "(n_user, n_feature+1), where the \"+1\" is for the bias term. However, to feed the \n",
    "cost function to SciPy's minimize(), the parameters of the function cannot be a \n",
    "matrix and has to be a 1D vector\n",
    "\"\"\"\n",
    "def CostFunction(params, Y, R, lambd):\n",
    "\n",
    "    num_res = R.shape[0]  # number of restaurants\n",
    "    num_user = R.shape[1] # number of users\n",
    "    num_feature = (len(params)-num_res)/(num_res+num_user) # number of features\n",
    "\n",
    "    # reshape the parameters to 2D matrices so we can perform matrix multiplication\n",
    "    # X: the features of the restaurants; Theta: the weights of the users\n",
    "    X = params[:num_res*num_feature].reshape(num_res, num_feature)\n",
    "    X = np.append(np.ones((num_res,1)),X,axis=1) # add the bias term\n",
    "    Theta = params[num_res*num_feature:].reshape(num_user, num_feature + 1)\n",
    "\n",
    "    J = 0.5 * np.sum( (np.dot(X, Theta.T) * R - Y)**2 )\n",
    "\n",
    "    # regularization; the bias term is not included \n",
    "    J = J + lambd/2. * ( np.sum(Theta[:,1:]**2) + np.sum(X[:,1:]**2) )\n",
    "\n",
    "    return J\n",
    "\n",
    "# compute the gradients of the parameters\n",
    "def Gradient(params, Y, R, lambd):\n",
    "\n",
    "    num_res = R.shape[0]    \n",
    "    num_user = R.shape[1]\n",
    "    num_feature = (len(params)-num_res)/(num_res+num_user)\n",
    "\n",
    "    X = params[:num_res*num_feature].reshape(num_res, num_feature)\n",
    "    X = np.append(np.ones((num_res,1)),X,axis=1) # add the bias term\n",
    "    Theta = params[num_res*num_feature:].reshape(num_user, num_feature + 1)\n",
    "\n",
    "    X_grad = np.dot((np.dot(X, Theta.T) * R - Y), Theta)\n",
    "    Theta_grad = np.dot((np.dot(Theta, X.T) * R.T - Y.T), X)\n",
    "\n",
    "    X_grad = X_grad + lambd * X\n",
    "    X_grad = X_grad[:,1:]\n",
    "    Theta_grad[:,1:] = Theta_grad[:,1:] + lambd*Theta[:,1:]\n",
    "\n",
    "    grad = np.append(X_grad.reshape(-1), Theta_grad.reshape(-1))\n",
    "    \n",
    "    return grad"
   ]
  },
  {
   "cell_type": "markdown",
   "metadata": {
    "_cell_guid": "987614b9-18ee-43bd-ae59-48f1d014cc69",
    "_uuid": "f291c30da68ff6a560139b4cd4a8bdd80f1b4a0d"
   },
   "source": [
    "Secondly, we need to perform \"mean normalization\" on the ratings. For each restaurant, we will subtract the average rating from all the ratings (in the training set). So after the normalization, the average rating is 0 for all the restaurant. The model will be trained on these normalized ratings instead of the original values. When we make the prediction, we will add those average ratings back.\n",
    "<br><br>\n",
    "According to Andrew Ng's course, the reason for doing this is that if there is a user who never rated anything (so there is no data we can learn from this user), the predicted ratings for him/her will be the average values. In this dataset, all the users have rated some restaurants. However, performing mean normalization is still preferred as it scales the predicted ratings to roughly the right scale. What the model learns and predicts is therefore the **deviation** from the average rating (as a function of users) instead of the absolute value of a rating. The average rating of each restaurant is esscentailly a base value of the prediction. If mean normalization is not performed, the model would perform poorly."
   ]
  },
  {
   "cell_type": "code",
   "execution_count": 16,
   "metadata": {
    "_cell_guid": "d82ff300-e86c-46ce-8654-4a2788684448",
    "_uuid": "a7bf8d32ef6e449def5cc4cfccbec57c2fd842a4",
    "collapsed": true
   },
   "outputs": [],
   "source": [
    "def MeanNorm(Y,R):\n",
    "    \n",
    "    Y_norm = Y*R\n",
    "    mean =  (np.sum(Y_norm, axis=1)/np.sum((R == 1.0), axis=1)).reshape(Y.shape[0],1) * np.ones(Y.shape)\n",
    "    Y_norm = (Y_norm - mean)*R\n",
    "\n",
    "    return Y_norm, mean"
   ]
  },
  {
   "cell_type": "code",
   "execution_count": 17,
   "metadata": {},
   "outputs": [
    {
     "name": "stdout",
     "output_type": "stream",
     "text": [
      "Optimization terminated successfully.\n",
      "         Current function value: 56.885840\n",
      "         Iterations: 262\n",
      "         Function evaluations: 265\n",
      "         Gradient evaluations: 265\n"
     ]
    }
   ],
   "source": [
    "np.random.seed(0)\n",
    "\n",
    "# The hyperparameters we can tune are the number of features and the L2 regularization\n",
    "# One can use grid search or random search to find the best combination. The following \n",
    "# values are what I found that lead to the best FCP\n",
    "n_feature = 2\n",
    "lambd = 0.5\n",
    "\n",
    "# initialize the parameters\n",
    "X = np.random.normal(0,1,(n_res, n_feature)) # the features of the restaurants \n",
    "Theta = np.random.normal(0,1,(n_user, n_feature + 1)) # the weights of the users\n",
    "\n",
    "# unroll them to a 1D vector\n",
    "initial_parameters = np.append(X.reshape(-1), Theta.reshape(-1)) \n",
    "\n",
    "# mean normalization\n",
    "Y_norm, Y_mean = MeanNorm(Y,R_train)\n",
    "\n",
    "# optimization\n",
    "result = minimize(CostFunction, initial_parameters, jac=Gradient, args=(Y_norm, R_train, lambd),\n",
    "                  options={'disp': True, 'maxiter': 500})"
   ]
  },
  {
   "cell_type": "code",
   "execution_count": 18,
   "metadata": {
    "_cell_guid": "2d9e5fc7-3cbf-41c1-8eae-d736716a2924",
    "_uuid": "c8aff2adac5fe4889fcaf96eaf1e6a5456064119"
   },
   "outputs": [
    {
     "name": "stdout",
     "output_type": "stream",
     "text": [
      "RMSE of the training set: 0.258441364721\n",
      "RMSE of the test set: 0.760656705597\n"
     ]
    }
   ],
   "source": [
    "# reshape the optimial parameters to 2D matrices\n",
    "X_opt = result.x[:n_res*n_feature].reshape(n_res, n_feature)\n",
    "X_opt = np.append(np.ones((n_res,1)),X_opt,axis=1)\n",
    "Theta_opt = result.x[n_res*n_feature:].reshape(n_user, n_feature + 1)\n",
    "\n",
    "Y_pred = np.dot(X_opt, Theta_opt.T) + Y_mean\n",
    "\n",
    "# RMSE\n",
    "print(\"RMSE of the training set: {}\".format(RMSE(Y,Y_pred,R_train)))\n",
    "print(\"RMSE of the test set: {}\".format(RMSE(Y,Y_pred,R_test)))"
   ]
  },
  {
   "cell_type": "code",
   "execution_count": 19,
   "metadata": {
    "_cell_guid": "9ac1bab3-c7c2-4357-98f8-d557bde78a25",
    "_uuid": "a83b2b703798b7f181a34b1771d28bf45123f8aa"
   },
   "outputs": [
    {
     "name": "stdout",
     "output_type": "stream",
     "text": [
      "Training Set:\n",
      "Total number of rating pairs: 2380\n",
      "Total number of discordant pairs: 31\n",
      "Total number of concordant pairs: 1024\n",
      "Total number of ties: 1325\n",
      "FCP: 0.970616113744\n",
      "Test Set:\n",
      "Total number of rating pairs: 339\n",
      "Total number of discordant pairs: 49\n",
      "Total number of concordant pairs: 84\n",
      "Total number of ties: 206\n",
      "FCP: 0.631578947368\n"
     ]
    }
   ],
   "source": [
    "# FCP\n",
    "print(\"Training Set:\")\n",
    "FCP(Y,Y_pred,R_train)\n",
    "print(\"Test Set:\")\n",
    "FCP(Y,Y_pred,R_test)"
   ]
  },
  {
   "cell_type": "code",
   "execution_count": 20,
   "metadata": {
    "_cell_guid": "5cef565b-d197-4551-8b87-f7e937d322f0",
    "_uuid": "57fa85bd05e87a69157dea3a20efc05ef057be9b"
   },
   "outputs": [
    {
     "data": {
      "image/png": "[encoded data removed]",
      "text/plain": [
       "<matplotlib.figure.Figure at 0x1105a8ad0>"
      ]
     },
     "metadata": {},
     "output_type": "display_data"
    }
   ],
   "source": [
    "MakeBoxplot(Y_pred, Y, R_train, 'Training Set')"
   ]
  },
  {
   "cell_type": "code",
   "execution_count": 21,
   "metadata": {},
   "outputs": [
    {
     "data": {
      "image/png": "[encoded data removed]",
      "text/plain": [
       "<matplotlib.figure.Figure at 0x11320f0d0>"
      ]
     },
     "metadata": {},
     "output_type": "display_data"
    }
   ],
   "source": [
    "MakeBoxplot(Y_pred, Y, R_test, 'Test Set')"
   ]
  },
  {
   "cell_type": "markdown",
   "metadata": {
    "_cell_guid": "d161543e-bf6e-4d92-9870-e65066ccc919",
    "_uuid": "dae3c1eaa9cdc93033f4b0a9ed011134ad9b4f4d"
   },
   "source": [
    "Both the RMSE and FCP are better than the benchmark model's. But we can see that the model overfits the data. If there were more data, a larger regularization might actually give a better result."
   ]
  },
  {
   "cell_type": "markdown",
   "metadata": {
    "_cell_guid": "f1ff8a36-227b-4e5e-b06a-4baee78f152e",
    "_uuid": "841bce90aba56253001ecf5852c00e624c645dff",
    "collapsed": true
   },
   "source": [
    "## SVD with the Surprise Package##\n",
    "Surprise is an easy-to-use Python package for recommender systems. Please refer to their [project page](http://surpriselib.com/) and [document page](http://surprise.readthedocs.io/en/stable/index.html#) for details of installation and tutorials. Here I will use the famous [SVD algorithm](http://sifter.org/simon/journal/20061211.html)."
   ]
  },
  {
   "cell_type": "code",
   "execution_count": 22,
   "metadata": {
    "_cell_guid": "e4c2f3e8-32fb-469c-a29d-fde186185738",
    "_uuid": "f3b95706189f82d9adc783868d809adbc4170f18",
    "collapsed": true
   },
   "outputs": [],
   "source": [
    "from surprise import SVD\n",
    "from surprise.dataset import Reader, Dataset"
   ]
  },
  {
   "cell_type": "markdown",
   "metadata": {
    "_cell_guid": "e7ce3eaf-f791-4707-bcf3-b809e5421aa9",
    "_uuid": "83aa259e91e2dc36422124b33e81e920f40ef45a"
   },
   "source": [
    "To load a data frame or csv file, the columns must correspond to user id, item id and ratings (in this order). In order to compare the result of SVD with my models, we have to use the same training/validation split that are used above and transform them to the form that can be fed to Surprise."
   ]
  },
  {
   "cell_type": "code",
   "execution_count": 23,
   "metadata": {
    "_cell_guid": "63d2e81e-530c-4051-8af3-50692096457d",
    "_uuid": "cc8e898f8223e9175f50789ac1f5915e425d038e",
    "collapsed": true
   },
   "outputs": [],
   "source": [
    "uID = []\n",
    "pID = []\n",
    "r = []\n",
    "\n",
    "for i in range(R.shape[1]):\n",
    "    for j in range(R.shape[0]):\n",
    "\n",
    "        if R_train[j,i] == 1:\n",
    "            \n",
    "            pID.append(placeID[j])\n",
    "            uID.append(userID[i])\n",
    "            r.append(Y[j,i])\n",
    "\n",
    "\n",
    "rating_train = pd.DataFrame({'userID':uID, 'placeID':pID, 'rating':r})\n",
    "rating_train = rating_train[['userID','placeID','rating']]\n",
    "\n",
    "uID = []\n",
    "pID = []\n",
    "r = []\n",
    "\n",
    "for i in range(R.shape[1]):\n",
    "    for j in range(R.shape[0]):\n",
    "\n",
    "        if R_test[j,i] == 1:\n",
    "            \n",
    "            pID.append(placeID[j])\n",
    "            uID.append(userID[i])\n",
    "            r.append(Y[j,i])\n",
    "\n",
    "\n",
    "rating_test = pd.DataFrame({'userID':uID, 'placeID':pID, 'rating':r})\n",
    "rating_test = rating_test[['userID','placeID','rating']]"
   ]
  },
  {
   "cell_type": "code",
   "execution_count": 24,
   "metadata": {
    "_cell_guid": "efaad8de-00c8-4ffd-bc71-d6e42a6d16f1",
    "_uuid": "c18fc4d1a3a858ab7823692002392ddcd9f1e94f",
    "collapsed": true
   },
   "outputs": [],
   "source": [
    "# A reader is needed to specify the rating_scale\n",
    "reader = Reader(rating_scale=(0, 2))\n",
    "data_train = Dataset.load_from_df(rating_train, reader)\n",
    "trainset = data_train.build_full_trainset() # use the whole training set "
   ]
  },
  {
   "cell_type": "code",
   "execution_count": 25,
   "metadata": {
    "_cell_guid": "f10f07e6-4e67-4c2e-84b7-67aa82afd79f",
    "_uuid": "dd7852de43afb40497000dd5201f68ba286621d5",
    "collapsed": true
   },
   "outputs": [],
   "source": [
    "model = SVD() # better performance might be achieved by playing with the hyperparameters\n",
    "model.train(trainset)\n",
    "\n",
    "# my data form of ratings: shape=(130,138)\n",
    "Y_pred = pd.DataFrame( np.zeros((n_res, n_user))-1.0, columns=userID, index=placeID )\n",
    "\n",
    "size_test = len(rating_test)\n",
    "size_train = len(rating_train)\n",
    "r_pred_test = np.zeros(size_test)\n",
    "r_pred_train = np.zeros(size_train)\n",
    "\n",
    "# obtain predictions for the test set\n",
    "for i in range(size_test):\n",
    "    pred = model.predict(rating_test.userID[i], rating_test.placeID[i], verbose=False)\n",
    "    r_pred_test[i] = pred.est\n",
    "\n",
    "# fill the predictions into my 'Y_pred' data frame\n",
    "for p, u, r in zip(rating_test.placeID, rating_test.userID, r_pred_test):\n",
    "    Y_pred.loc[p,u] = r\n",
    "\n",
    "# obtain predictions for the training set    \n",
    "for i in range(size_train):\n",
    "    pred = model.predict(rating_train.userID[i], rating_train.placeID[i], verbose=False)\n",
    "    r_pred_train[i] = pred.est\n",
    "\n",
    "# fill the predictions into my 'Y_pred' data frame    \n",
    "for p, u, r in zip(rating_train.placeID, rating_train.userID, r_pred_train):\n",
    "    Y_pred.loc[p,u] = r\n",
    "    \n",
    "Y_pred = Y_pred.values    "
   ]
  },
  {
   "cell_type": "code",
   "execution_count": 26,
   "metadata": {
    "_cell_guid": "6d98e0a1-0e4d-4b61-ad6f-0aaf7c24a3fe",
    "_uuid": "da9932834e28ee014e22c10f6c804b14848e1fb9"
   },
   "outputs": [
    {
     "name": "stdout",
     "output_type": "stream",
     "text": [
      "RMSE of the training set: 0.479385054637\n",
      "RMSE of the test set: 0.664711855504\n"
     ]
    }
   ],
   "source": [
    "# RMSE\n",
    "print(\"RMSE of the training set: {}\".format(RMSE(Y,Y_pred,R_train)))\n",
    "print(\"RMSE of the test set: {}\".format(RMSE(Y,Y_pred,R_test)))"
   ]
  },
  {
   "cell_type": "code",
   "execution_count": 27,
   "metadata": {
    "_cell_guid": "d517e8bc-e424-4da2-bbd5-cb447a15eea6",
    "_uuid": "be39230599a922fa45b5d31d32bea4070bdaf424"
   },
   "outputs": [
    {
     "name": "stdout",
     "output_type": "stream",
     "text": [
      "Training Set:\n",
      "Total number of rating pairs: 2380\n",
      "Total number of discordant pairs: 82\n",
      "Total number of concordant pairs: 973\n",
      "Total number of ties: 1325\n",
      "FCP: 0.922274881517\n",
      "Test Set:\n",
      "Total number of rating pairs: 339\n",
      "Total number of discordant pairs: 63\n",
      "Total number of concordant pairs: 70\n",
      "Total number of ties: 206\n",
      "FCP: 0.526315789474\n"
     ]
    }
   ],
   "source": [
    "# FCP\n",
    "print(\"Training Set:\")\n",
    "FCP(Y,Y_pred,R_train)\n",
    "print(\"Test Set:\")\n",
    "FCP(Y,Y_pred,R_test)"
   ]
  },
  {
   "cell_type": "code",
   "execution_count": 28,
   "metadata": {
    "_cell_guid": "e834a8ea-111b-4a69-9ec7-b8a6c62ed4b4",
    "_uuid": "bb47f1d01f43c8e959b0bf8be08c648b73932683"
   },
   "outputs": [
    {
     "data": {
      "image/png": "[encoded data removed]",
      "text/plain": [
       "<matplotlib.figure.Figure at 0x110408a10>"
      ]
     },
     "metadata": {},
     "output_type": "display_data"
    }
   ],
   "source": [
    "MakeBoxplot(Y_pred, Y, R_train, 'Training Set')"
   ]
  },
  {
   "cell_type": "code",
   "execution_count": 29,
   "metadata": {
    "_cell_guid": "1a4532f4-6336-40c0-8547-18f96693c5a3",
    "_uuid": "267ae9d5c666230d5afe614d9b924df908c89b26"
   },
   "outputs": [
    {
     "data": {
      "image/png": "[encoded data removed]",
      "text/plain": [
       "<matplotlib.figure.Figure at 0x1132ca6d0>"
      ]
     },
     "metadata": {},
     "output_type": "display_data"
    }
   ],
   "source": [
    "MakeBoxplot(Y_pred, Y, R_test, 'Test Set')"
   ]
  },
  {
   "cell_type": "markdown",
   "metadata": {
    "_cell_guid": "d0f446c7-5c37-4ab1-bab1-e04a47996b18",
    "_uuid": "d1c1ab7634128e7b9c5436c609f1140f76bfae78"
   },
   "source": [
    "The SVD model results in a better RMSE on the test set, but has a worse FCP (even worse than the benchmark). This illustrates that RMSE can be a bad evaluation metric for recommender systems."
   ]
  }
 ],
 "metadata": {
  "kernelspec": {
   "display_name": "Python 2",
   "language": "python",
   "name": "python2"
  },
  "language_info": {
   "codemirror_mode": {
    "name": "ipython",
    "version": 2
   },
   "file_extension": ".py",
   "mimetype": "text/x-python",
   "name": "python",
   "nbconvert_exporter": "python",
   "pygments_lexer": "ipython2",
   "version": "2.7.13"
  }
 },
 "nbformat": 4,
 "nbformat_minor": 1
}
